{
 "cells": [
  {
   "cell_type": "code",
   "execution_count": 43,
   "metadata": {
    "collapsed": true
   },
   "outputs": [],
   "source": [
    "from pandas.io.parsers import read_csv\n",
    "from sklearn import tree\n",
    "from sklearn import preprocessing\n",
    "from sklearn.model_selection import train_test_split\n",
    "import pandas as pd\n",
    "import numpy as np"
   ]
  },
  {
   "cell_type": "code",
   "execution_count": 44,
   "metadata": {
    "collapsed": false
   },
   "outputs": [],
   "source": [
    "# import data\n",
    "filename = 'mushrooms.csv'\n",
    "data = read_csv(filename)"
   ]
  },
  {
   "cell_type": "code",
   "execution_count": 45,
   "metadata": {
    "collapsed": false
   },
   "outputs": [],
   "source": [
    "# omit missing value\n",
    "delete_row = []\n",
    "\n",
    "for i in range(0, len(data)):\n",
    "    if data.at[i, 'stalk-root'] == '?':\n",
    "        delete_row.append(i)\n",
    "\n",
    "data = data.drop(delete_row, 0)\n",
    "data = data.reset_index(drop=True)"
   ]
  },
  {
   "cell_type": "code",
   "execution_count": 46,
   "metadata": {
    "collapsed": false
   },
   "outputs": [],
   "source": [
    "# Label category value to numeric value\n",
    "data_target = data['class']\n",
    "data_feature = data.drop('class', 1)\n",
    "\n",
    "for i in range(1, len(data_feature.columns)):\n",
    "    le = preprocessing.LabelEncoder()\n",
    "    le.fit(data_feature.ix[:, i])\n",
    "    data_feature.ix[:, i] = le.transform(data_feature.ix[:, i])"
   ]
  },
  {
   "cell_type": "code",
   "execution_count": null,
   "metadata": {
    "collapsed": true
   },
   "outputs": [],
   "source": [
    "# separate training and testing data (random_state is like set.seed() in R)\n",
    "input_train, input_test, output_train, output_test = train_test_split(data_feature, data_target, test_size=0.33, random_state=42)"
   ]
  },
  {
   "cell_type": "code",
   "execution_count": null,
   "metadata": {
    "collapsed": true
   },
   "outputs": [],
   "source": [
    "# create decision tree\n",
    "cfl = tree.DecisionTreeClassifier()\n",
    "cfl.fit(input_train, output_train)"
   ]
  },
  {
   "cell_type": "code",
   "execution_count": null,
   "metadata": {
    "collapsed": true
   },
   "outputs": [],
   "source": [
    "# predict output from decision tree\n",
    "output_predict = cfl.predict(output_train)"
   ]
  }
 ],
 "metadata": {
  "anaconda-cloud": {},
  "kernelspec": {
   "display_name": "Python [conda root]",
   "language": "python",
   "name": "conda-root-py"
  },
  "language_info": {
   "codemirror_mode": {
    "name": "ipython",
    "version": 3
   },
   "file_extension": ".py",
   "mimetype": "text/x-python",
   "name": "python",
   "nbconvert_exporter": "python",
   "pygments_lexer": "ipython3",
   "version": "3.5.2"
  }
 },
 "nbformat": 4,
 "nbformat_minor": 1
}
